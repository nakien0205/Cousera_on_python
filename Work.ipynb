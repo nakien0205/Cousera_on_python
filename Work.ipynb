{
  "metadata": {
    "kernelspec": {
      "name": "python",
      "display_name": "Python (Pyodide)",
      "language": "python"
    },
    "language_info": {
      "codemirror_mode": {
        "name": "python",
        "version": 3
      },
      "file_extension": ".py",
      "mimetype": "text/x-python",
      "name": "python",
      "nbconvert_exporter": "python",
      "pygments_lexer": "ipython3",
      "version": "3.8"
    }
  },
  "nbformat_minor": 4,
  "nbformat": 4,
  "cells": [
    {
      "cell_type": "markdown",
      "source": "Exercise 2:\nData Science Tools and Ecosystem\n\nExercise 3:\nData Science Tools and Ecosystem are summarized\n\nExercise 4:\nPython\nR\nSQL\nJava\nJulia\nScala\nC/C++\n\nExercise 5:\nTensorFlow\nNumPy\nSciPy\nPandas\nMatplotlib\nKeras\nSciKit-Learn\nPyTorch\n\nExercise 6:\n| Tool            | Description                                   |\n|-----------------|-----------------------------------------------|\n| Jupyter Notebook| Interactive environment for writing code      |\n| RStudio         | IDE for R programming                         |\n| Python          | IDE for py, many extensions                   |\n\n\nExercise 7:\nprint(5+7,2-6,2/4,5*6,5**0.5)\n\nExercise 8:\nprint((2*5)-3)\n\nExercise 9:\nmin = 45\nprint(min/60)\n\nExercise 10:\nObjectives =\n- Learn basic data science concepts\n- Familiarize with Python libraries for data science\n- Perform basic arithmetic operations in Python\n\nExercise 11:\nKien Nguyen\n",
      "metadata": {}
    },
    {
      "cell_type": "code",
      "source": "",
      "metadata": {
        "trusted": true
      },
      "outputs": [],
      "execution_count": null
    }
  ]
}